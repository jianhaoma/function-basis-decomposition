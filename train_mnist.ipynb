{
  "cells": [
    {
      "cell_type": "code",
      "execution_count": null,
      "metadata": {},
      "outputs": [],
      "source": [
        "!pip install git+https://github.com/tfjgeorge/nngeometry.git"
      ]
    },
    {
      "cell_type": "code",
      "execution_count": 27,
      "metadata": {
        "colab": {
          "base_uri": "https://localhost:8080/"
        },
        "id": "RW_PTyreKrAE",
        "outputId": "3c75c627-7727-4eb8-9e2a-f49bd3d68d9e"
      },
      "outputs": [
        {
          "name": "stdout",
          "output_type": "stream",
          "text": [
            "data set length: 60000 vali data length: 10000\n"
          ]
        }
      ],
      "source": [
        "## Imports\n",
        "import torch\n",
        "import torchvision\n",
        "import torchvision.transforms as transforms\n",
        "from torchvision.datasets import MNIST\n",
        "from torchvision.utils import make_grid\n",
        "from torch.utils.data import random_split\n",
        "from torch.utils.data import DataLoader\n",
        "import torch.nn.functional as F\n",
        "import torch.nn as nn\n",
        "import numpy as np\n",
        "from numpy import random\n",
        "import matplotlib.pyplot as plt\n",
        "import copy\n",
        "from IPython.display import clear_output \n",
        "from sklearn.utils.extmath import randomized_svd\n",
        "from nngeometry.object.fspace import FMatDense\n",
        "from nngeometry.object.vector import FVector\n",
        "from nngeometry.object import PMatImplicit\n",
        "from nngeometry.generator import Jacobian\n",
        "from nngeometry.layercollection import LayerCollection\n",
        "clear_output()\n",
        "seed = 0\n",
        "np.random.seed(seed)\n",
        "torch.manual_seed(seed)\n",
        "torch.cuda.manual_seed(seed)\n",
        "torch.cuda.manual_seed_all(seed)\n",
        "torch.backends.cudnn.benchmark = False\n",
        "torch.backends.cudnn.deterministic = True\n",
        "# !! fixed random seed! \n",
        "\n",
        "# Download training dataset\n",
        "dataset = MNIST(root='data/', download=True)\n",
        "vali_dataset = MNIST(root='data/', train=False)\n",
        "print('data set length:',len(dataset),'vali data length:',len(vali_dataset))\n",
        "\n",
        "# Transform to tensors\n",
        "train_dataset = MNIST(root='data/', \n",
        "                train=True,\n",
        "                transform=transforms.ToTensor())\n",
        "\n",
        "# training data and validation data.\n",
        "train_ds = train_dataset\n",
        "val_ds = MNIST(root='data/', \n",
        "                train=False,\n",
        "                transform=transforms.ToTensor())"
      ]
    },
    {
      "cell_type": "code",
      "execution_count": 28,
      "metadata": {
        "id": "Wu4rgvwPiZS_"
      },
      "outputs": [],
      "source": [
        "# Specify device\n",
        "device = torch.device(\"cuda\" if torch.cuda.is_available() else \"cpu\")\n"
      ]
    },
    {
      "cell_type": "code",
      "execution_count": 29,
      "metadata": {
        "id": "NUEgYi7ZaAgf"
      },
      "outputs": [],
      "source": [
        "# Build CNN models, 3 convolution layers.\n",
        "def conv_block(input_channels, out_channels, kernel_size, padding, batch_norm = True, pool=True):\n",
        "    layers = [nn.Conv2d(input_channels, out_channels, kernel_size, 1, padding)]\n",
        "    if batch_norm: \n",
        "      layers.append(nn.BatchNorm2d(out_channels))\n",
        "    layers.append(nn.ReLU(inplace=True))\n",
        "    if pool: layers.append(nn.MaxPool2d(2))\n",
        "    return nn.Sequential(*layers)\n",
        "\n",
        "def in_out_channel(in_channel=128, layer=1, rate=1/2, mode='exp'):\n",
        "  if mode == 'exp':\n",
        "    out_channel = int(in_channel*rate**layer)\n",
        "  if mode == 'linear':\n",
        "    out_channel = int(in_channel - layer*rate)\n",
        "  return out_channel\n",
        "def classifier_in_dim(out):\n",
        "  return len(torch.flatten(out, start_dim=1))\n",
        "\n",
        "class CNN3(nn.Module):\n",
        "    def __init__(self, num_conv_layers = 3, input_channels=1, out_channels_base=16, rate=2, mode = 'exp',\n",
        "                  num_classes=10, batch_norm = True, pool = True):\n",
        "        super().__init__()\n",
        "        self.conv1 = conv_block(\n",
        "            input_channels, out_channels_base, \n",
        "            kernel_size=3, padding=1, batch_norm=batch_norm, pool=pool)\n",
        "        self.conv2 = conv_block(\n",
        "            out_channels_base, \n",
        "            in_out_channel(out_channels_base, layer=1, rate=rate, mode=mode), \n",
        "            kernel_size=3, padding=1, batch_norm=batch_norm, pool=pool)\n",
        "        self.conv3 = conv_block(\n",
        "            in_out_channel(out_channels_base, layer=1, rate=rate, mode=mode), \n",
        "            in_out_channel(out_channels_base, layer=2, rate=rate, mode=mode), \n",
        "            kernel_size=3, padding=1, batch_norm=batch_norm, pool=pool)\n",
        "        self.lin_batch = nn.BatchNorm1d(288)\n",
        "        self.classifier = nn.Linear(288, 10, bias=False)  # No bias. No softmax\n",
        "\n",
        "    def forward(self, out):\n",
        "        out = self.conv1(out)\n",
        "        out = self.conv2(out)\n",
        "        out = self.conv3(out)\n",
        "        out = torch.flatten(out, start_dim=1)\n",
        "        out = self.lin_batch(out)\n",
        "        out = self.classifier(out)\n",
        "        return out     "
      ]
    },
    {
      "cell_type": "code",
      "execution_count": 30,
      "metadata": {
        "id": "QzRdjjTSY92k"
      },
      "outputs": [],
      "source": [
        "# Define a hook\n",
        "features = {}\n",
        "def get_features(name):\n",
        "    def hook(model, input, output):\n",
        "        features[name] = output.detach()\n",
        "    return hook"
      ]
    },
    {
      "cell_type": "code",
      "execution_count": null,
      "metadata": {},
      "outputs": [],
      "source": [
        "def hessian_norm(grads, para):\n",
        "    hn = 0\n",
        "    grads2 = []\n",
        "    for i, (grad, x) in enumerate(zip(grads, para)):\n",
        "        grad = torch.reshape(grad, [-1])\n",
        "        for count, g in enumerate(grad):\n",
        "            g2 = torch.autograd.grad(g, x, retain_graph=True)[0]\n",
        "            hn += torch.norm(g2, 'fro')**2\n",
        "    return torch.sqrt(hn)"
      ]
    },
    {
      "cell_type": "code",
      "execution_count": 31,
      "metadata": {
        "id": "Yjhu8wpoglOg"
      },
      "outputs": [],
      "source": [
        "from torch.cuda import current_device\n",
        "# Train the model\n",
        "def vali_step(model, para, device, val_loader, compute_phi=False, gradient=False):\n",
        "    model.eval()\n",
        "    outputs = []\n",
        "    FEATS = []\n",
        "    num_batch = len(val_loader)\n",
        "    f_out = torch.empty((0, 10))\n",
        "    vacc = 0\n",
        "    total = 0\n",
        "    correct = 0\n",
        "    grad_norm_ = 0\n",
        "    if gradient:\n",
        "      gn = 0\n",
        "      hn = 0\n",
        "      #lc = LayerCollection.from_model(model)\n",
        "      #Jac = Jacobian(model, n_output=10, centering=True, layer_collection=lc)\n",
        "    for batch in val_loader:\n",
        "      images, labels = batch\n",
        "      images, labels = images.to(device), labels.to(device)\n",
        "      output = model(images)\n",
        "      total += labels.size(0)\n",
        "      _, predicted = torch.max(output.data, 1)\n",
        "      correct += (predicted == labels).sum().item()\n",
        "      labels=F.one_hot(labels.to(torch.int64), 10).float()    # !! number of labels used here!!              \n",
        "      loss = F.mse_loss(output, labels) # Calculate loss, mean suqare loss\n",
        "      if gradient:\n",
        "        #grad_batch = (Jac.get_jacobian([images, labels])).detach().cpu()\n",
        "        grad = torch.autograd.grad(model, para, create_graph=True)\n",
        "        gn += torch.norm(grad, 'fro')**2\n",
        "        hn += hessian_norm(grad, para)**2\n",
        "\n",
        "      if compute_phi:\n",
        "        FEATS.append(features['phi'].cpu().numpy())\n",
        "    vacc = correct/total\n",
        "    if gradient:\n",
        "      grad = torch.sqrt(gn)\n",
        "      hn = torch.sqrt(hn)\n",
        "    else:\n",
        "      grad = None\n",
        "      hn = None\n",
        "    f_out = torch.vstack((f_out, output.detach().cpu()))\n",
        "    if compute_phi:\n",
        "      phi = torch.flatten(torch.from_numpy(FEATS[0]), 1)\n",
        "      for i in range(num_batch-1):\n",
        "        phi = torch.vstack((phi, torch.flatten(torch.from_numpy(FEATS[i+1]), 1)))\n",
        "    else:\n",
        "      phi = None\n",
        "    return vacc, phi, f_out, gn, hn\n",
        "\n",
        "def train(epochs, max_lr, decrease_lr, model, device, train_loader, val_loader, first_kernel_base, rate, \n",
        "                  weight_decay=0, grad_clip=None, opt_func=torch.optim.SGD):\n",
        "    torch.cuda.empty_cache()\n",
        "    Iter = len(train_loader)\n",
        "    history = []\n",
        "    Phi = {}\n",
        "    F_out = {}\n",
        "    train_acc = []\n",
        "    val_acc = []\n",
        "    lr = max_lr\n",
        "    train_loss = []\n",
        "    lrs = []\n",
        "    valtime = []\n",
        "    iter = 0\n",
        "    val_iter = 0\n",
        "    Grad_norm = []\n",
        "    Hessian_norm = []\n",
        "    train_batches = len(train_loader)\n",
        "\n",
        "    model.eval()\n",
        "    para = optimizer.param_groups[0]['params']\n",
        "    vacc, _, f_out, grad_norm, hessian_norm = vali_step(model, para, device, val_loader, gradient=True)\n",
        "    Grad_norm.append(grad_norm)\n",
        "    Hessian_norm.append(hessian_norm)\n",
        "    val_acc.append(vacc)\n",
        "    F_out[0] = f_out\n",
        "    valtime.append(0)\n",
        "    for epoch in range(epochs):\n",
        "\n",
        "        # update\n",
        "        if decrease_lr:\n",
        "          lr = max_lr - (max_lr-0.01)/int(epochs/10)*int(epoch/10)\n",
        "        # optimizer\n",
        "        optimizer = opt_func(model.parameters(), lr, weight_decay=weight_decay)\n",
        "        total = 0\n",
        "        correct = 0\n",
        "        for batch in train_loader:\n",
        "          model.train()\n",
        "          images, labels = batch \n",
        "          images, labels = images.to(device), labels.to(device)\n",
        "          labels=F.one_hot(labels.to(torch.int64), 10).float()    # !! number of labels used here!!              \n",
        "          out = model(images)                  # Generate predictions\n",
        "          loss = F.mse_loss(out, labels)\n",
        "          loss.backward()\n",
        "          train_loss.append(loss.detach())\n",
        "          total += labels.size(0)\n",
        "          correct += (out == labels).sum().item()\n",
        "          train_acc.append(correct/total)\n",
        "          # Gradient clipping\n",
        "          if grad_clip: \n",
        "              nn.utils.clip_grad_value_(model.parameters(), grad_clip)\n",
        "          optimizer.step()\n",
        "          optimizer.zero_grad()\n",
        "\n",
        "          # Validation phase\n",
        "          if iter%50 == 0 and iter<2000:\n",
        "                para = optimizer.param_groups[0]['params']\n",
        "                vacc, _, f_out, grad_norm, hn = vali_step(model, para, device, val_loader, gradient=True)\n",
        "                F_out[iter+1] = f_out\n",
        "                val_acc.append(vacc)\n",
        "                Grad_norm.append(grad_norm)\n",
        "                Hessian_norm.append(hn)\n",
        "                valtime.append(iter+1)\n",
        "          iter += 1\n",
        "    # Register a hook for the last layer\n",
        "    model.lin_batch.register_forward_hook(get_features('phi'))\n",
        "    model.eval()\n",
        "    with torch.no_grad():\n",
        "        vacc, phi, _, _ = vali_step(model, device, val_loader, compute_phi=True)\n",
        "\n",
        "    return train_loss, train_acc, val_acc, phi, F_out, valtime, Grad_norm, Hessian_norm"
      ]
    },
    {
      "cell_type": "code",
      "execution_count": 32,
      "metadata": {
        "id": "Llb2JYLgJV83"
      },
      "outputs": [],
      "source": [
        "# experiment setting: width of net\n",
        "out_channels_base=128\n",
        "rate=1/2\n",
        "mode = 'exp'\n",
        "\n",
        "# experiment setting: depth of net\n",
        "num_conv_layers = 3\n",
        "batch_size = 32\n",
        "\n",
        "batch_norm = True\n",
        "epochs = 10 #9\n",
        "max_lr = 0.03 #0.05\n",
        "decrease_lr = False\n",
        "grad_clip = 0.1\n",
        "weight_decay = 1e-4\n",
        "opt_func = torch.optim.SGD\n",
        "\n",
        "train_loader = DataLoader(train_ds, batch_size, shuffle=True) \n",
        "val_loader = DataLoader(val_ds, batch_size)\n",
        "\n",
        "model = CNN3(num_conv_layers = num_conv_layers,\n",
        "    input_channels=1, out_channels_base=out_channels_base, \n",
        "    rate=rate, mode = mode,\n",
        "    num_classes=10, batch_norm = batch_norm, pool = True).to(device)"
      ]
    },
    {
      "cell_type": "code",
      "execution_count": 33,
      "metadata": {
        "id": "Z4cbOuLjJ4g_"
      },
      "outputs": [],
      "source": [
        "import time\n",
        "model\n",
        "train_loss, train_acc, val_acc, phi, F_out, valtime, grad_norm, hn = train(epochs, max_lr, decrease_lr, model, device, train_loader, val_loader, out_channels_base, rate, \n",
        "                  weight_decay, grad_clip, opt_func=torch.optim.SGD)\n",
        "train_loss = [x.detach().cpu().numpy() for x in train_loss]\n"
      ]
    },
    {
      "cell_type": "code",
      "execution_count": 34,
      "metadata": {
        "id": "DKUzkjDI9-0s"
      },
      "outputs": [],
      "source": [
        "fn_norm = []\n",
        "keys = list(F_out.keys())\n",
        "for i in range(len(keys)):\n",
        "  fn_norm.append(torch.norm(F_out[keys[i]], 'fro'))\n",
        "states = {'train_loss': train_loss, 'train_acc': train_acc, 'val_acc': val_acc, 'phi': phi, 'F_out': F_out, 'fn_norm': fn_norm, 'valtime': valtime, 'grad_norm': grad_norm}\n",
        "\n",
        "#states = np.load('states.npy',allow_pickle='TRUE').item()\n",
        "np.save('states', states)"
      ]
    },
    {
      "cell_type": "code",
      "execution_count": 41,
      "metadata": {
        "colab": {
          "base_uri": "https://localhost:8080/",
          "height": 297
        },
        "id": "oVU0CYlwQlsx",
        "outputId": "7379b870-21b7-45f0-8d76-3ff8d81128c5"
      },
      "outputs": [
        {
          "data": {
            "image/png": "[encoded data removed]",
            "text/plain": [
              "<Figure size 432x288 with 1 Axes>"
            ]
          },
          "metadata": {
            "needs_background": "light"
          },
          "output_type": "display_data"
        }
      ],
      "source": [
        "plt.plot([torch.log(x) for x in fn_norm], [torch.log(x) for x in grad_norm], linewidth=2, label='grad_fn')\n",
        "plt.locator_params(axis='x', nbins=8)\n",
        "plt.legend(prop={'size': 10})\n",
        "axes = plt.gca()\n",
        "plt.xlabel(\"log(output_norm)\", color='k')\n",
        "plt.ylabel(\"log(grad_output_norm)\", color='k')\n",
        "plt.legend(loc='best', prop={'size': 18})\n",
        "plt.title('test_acc{}'.format(val_acc[-1]))\n",
        "axes = plt.gca()\n",
        "axes.xaxis.label.set_size(18)\n",
        "axes.yaxis.label.set_size(18)\n",
        "plt.xticks(color='k', fontsize=14)\n",
        "plt.yticks(color='k', fontsize=14)\n",
        "plt.grid(True)\n",
        "plt.tight_layout()\n",
        "plt.savefig('fn_grad')\n",
        "plt.savefig('fn_grad.pdf')"
      ]
    },
    {
      "cell_type": "code",
      "execution_count": null,
      "metadata": {},
      "outputs": [],
      "source": [
        "plt.plot([torch.log(x) for x in fn_norm], [torch.log(x) for x in hn], linewidth=2, label='grad_fn')\n",
        "plt.locator_params(axis='x', nbins=8)\n",
        "plt.legend(prop={'size': 10})\n",
        "axes = plt.gca()\n",
        "plt.xlabel(\"log(output_norm)\", color='k')\n",
        "plt.ylabel(\"log(hessian_output_norm)\", color='k')\n",
        "plt.legend(loc='best', prop={'size': 18})\n",
        "plt.title('test_acc{}'.format(val_acc[-1]))\n",
        "axes = plt.gca()\n",
        "axes.xaxis.label.set_size(18)\n",
        "axes.yaxis.label.set_size(18)\n",
        "plt.xticks(color='k', fontsize=14)\n",
        "plt.yticks(color='k', fontsize=14)\n",
        "plt.grid(True)\n",
        "plt.tight_layout()\n",
        "plt.savefig('fn_hessian')\n",
        "plt.savefig('fn_hessian.pdf')"
      ]
    }
  ],
  "metadata": {
    "accelerator": "GPU",
    "colab": {
      "collapsed_sections": [],
      "name": "train_mnist.ipynb",
      "provenance": []
    },
    "gpuClass": "standard",
    "kernelspec": {
      "display_name": "Python 3.9.7 ('base')",
      "language": "python",
      "name": "python3"
    },
    "language_info": {
      "codemirror_mode": {
        "name": "ipython",
        "version": 3
      },
      "file_extension": ".py",
      "mimetype": "text/x-python",
      "name": "python",
      "nbconvert_exporter": "python",
      "pygments_lexer": "ipython3",
      "version": "3.9.7"
    },
    "vscode": {
      "interpreter": {
        "hash": "5b79c397b45d343813d106cafd36597a129412d4902d6254aa11311e9f41cf83"
      }
    }
  },
  "nbformat": 4,
  "nbformat_minor": 0
}
